{
 "cells": [
  {
   "cell_type": "markdown",
   "metadata": {},
   "source": [
    "Methods 6 - Recommendation Algorithms\n",
    "-------------------------------------\n",
    "13.3.2020  \n",
    "Mathematics and Methods in Machine Learning and Neural Networks    \n",
    "Helsinki Metropolia University of Applied Sciences\n",
    "\n",
    "The aim of this exercise is to create a recommendation engine for anime content. The methods used and compared are K-Nearest Neighbors (KNN) and Singular Value Decomposition (SVD)."
   ]
  },
  {
   "cell_type": "code",
   "execution_count": 18,
   "metadata": {},
   "outputs": [],
   "source": [
    "import pandas as pd\n",
    "from surprise import Reader\n",
    "from surprise import KNNBasic\n",
    "from surprise import SVD\n",
    "from surprise import Dataset\n",
    "from collections import defaultdict"
   ]
  },
  {
   "cell_type": "markdown",
   "metadata": {},
   "source": [
    "The data contains quotes strings, so we define `quotechar` properly."
   ]
  },
  {
   "cell_type": "code",
   "execution_count": 19,
   "metadata": {},
   "outputs": [
    {
     "data": {
      "text/html": [
       "<div>\n",
       "<style scoped>\n",
       "    .dataframe tbody tr th:only-of-type {\n",
       "        vertical-align: middle;\n",
       "    }\n",
       "\n",
       "    .dataframe tbody tr th {\n",
       "        vertical-align: top;\n",
       "    }\n",
       "\n",
       "    .dataframe thead th {\n",
       "        text-align: right;\n",
       "    }\n",
       "</style>\n",
       "<table border=\"1\" class=\"dataframe\">\n",
       "  <thead>\n",
       "    <tr style=\"text-align: right;\">\n",
       "      <th></th>\n",
       "      <th>anime_id</th>\n",
       "      <th>name</th>\n",
       "      <th>genre</th>\n",
       "      <th>type</th>\n",
       "      <th>episodes</th>\n",
       "      <th>rating</th>\n",
       "      <th>members</th>\n",
       "    </tr>\n",
       "  </thead>\n",
       "  <tbody>\n",
       "    <tr>\n",
       "      <th>0</th>\n",
       "      <td>32281</td>\n",
       "      <td>Kimi no Na wa.</td>\n",
       "      <td>[Drama, Romance, School, Supernatural]</td>\n",
       "      <td>Movie</td>\n",
       "      <td>1</td>\n",
       "      <td>9.37</td>\n",
       "      <td>200630</td>\n",
       "    </tr>\n",
       "    <tr>\n",
       "      <th>1</th>\n",
       "      <td>5114</td>\n",
       "      <td>Fullmetal Alchemist: Brotherhood</td>\n",
       "      <td>[Action, Adventure, Drama, Fantasy, Magic, Mil...</td>\n",
       "      <td>TV</td>\n",
       "      <td>64</td>\n",
       "      <td>9.26</td>\n",
       "      <td>793665</td>\n",
       "    </tr>\n",
       "    <tr>\n",
       "      <th>2</th>\n",
       "      <td>28977</td>\n",
       "      <td>Gintama°</td>\n",
       "      <td>[Action, Comedy, Historical, Parody, Samurai, ...</td>\n",
       "      <td>TV</td>\n",
       "      <td>51</td>\n",
       "      <td>9.25</td>\n",
       "      <td>114262</td>\n",
       "    </tr>\n",
       "    <tr>\n",
       "      <th>3</th>\n",
       "      <td>9253</td>\n",
       "      <td>Steins;Gate</td>\n",
       "      <td>[Sci-Fi, Thriller]</td>\n",
       "      <td>TV</td>\n",
       "      <td>24</td>\n",
       "      <td>9.17</td>\n",
       "      <td>673572</td>\n",
       "    </tr>\n",
       "    <tr>\n",
       "      <th>4</th>\n",
       "      <td>9969</td>\n",
       "      <td>Gintama&amp;#039;</td>\n",
       "      <td>[Action, Comedy, Historical, Parody, Samurai, ...</td>\n",
       "      <td>TV</td>\n",
       "      <td>51</td>\n",
       "      <td>9.16</td>\n",
       "      <td>151266</td>\n",
       "    </tr>\n",
       "  </tbody>\n",
       "</table>\n",
       "</div>"
      ],
      "text/plain": [
       "   anime_id                              name  \\\n",
       "0     32281                    Kimi no Na wa.   \n",
       "1      5114  Fullmetal Alchemist: Brotherhood   \n",
       "2     28977                          Gintama°   \n",
       "3      9253                       Steins;Gate   \n",
       "4      9969                     Gintama&#039;   \n",
       "\n",
       "                                               genre   type episodes  rating  \\\n",
       "0             [Drama, Romance, School, Supernatural]  Movie        1    9.37   \n",
       "1  [Action, Adventure, Drama, Fantasy, Magic, Mil...     TV       64    9.26   \n",
       "2  [Action, Comedy, Historical, Parody, Samurai, ...     TV       51    9.25   \n",
       "3                                 [Sci-Fi, Thriller]     TV       24    9.17   \n",
       "4  [Action, Comedy, Historical, Parody, Samurai, ...     TV       51    9.16   \n",
       "\n",
       "   members  \n",
       "0   200630  \n",
       "1   793665  \n",
       "2   114262  \n",
       "3   673572  \n",
       "4   151266  "
      ]
     },
     "execution_count": 19,
     "metadata": {},
     "output_type": "execute_result"
    }
   ],
   "source": [
    "url_anime = r'../input/anime-recommendations-database/anime.csv'\n",
    "\n",
    "anime = pd.read_csv(url_anime, \n",
    "                    sep = ',', \n",
    "                    quotechar='\"')\n",
    "anime['genre'] = anime['genre'].str.split(\", \")\n",
    "anime.head()"
   ]
  },
  {
   "cell_type": "markdown",
   "metadata": {},
   "source": [
    "We discard all empty ratings, denoted by `-1`."
   ]
  },
  {
   "cell_type": "code",
   "execution_count": 20,
   "metadata": {},
   "outputs": [
    {
     "data": {
      "text/html": [
       "<div>\n",
       "<style scoped>\n",
       "    .dataframe tbody tr th:only-of-type {\n",
       "        vertical-align: middle;\n",
       "    }\n",
       "\n",
       "    .dataframe tbody tr th {\n",
       "        vertical-align: top;\n",
       "    }\n",
       "\n",
       "    .dataframe thead th {\n",
       "        text-align: right;\n",
       "    }\n",
       "</style>\n",
       "<table border=\"1\" class=\"dataframe\">\n",
       "  <thead>\n",
       "    <tr style=\"text-align: right;\">\n",
       "      <th></th>\n",
       "      <th>user_id</th>\n",
       "      <th>anime_id</th>\n",
       "      <th>rating</th>\n",
       "    </tr>\n",
       "  </thead>\n",
       "  <tbody>\n",
       "    <tr>\n",
       "      <th>47</th>\n",
       "      <td>1</td>\n",
       "      <td>8074</td>\n",
       "      <td>10.0</td>\n",
       "    </tr>\n",
       "    <tr>\n",
       "      <th>81</th>\n",
       "      <td>1</td>\n",
       "      <td>11617</td>\n",
       "      <td>10.0</td>\n",
       "    </tr>\n",
       "    <tr>\n",
       "      <th>83</th>\n",
       "      <td>1</td>\n",
       "      <td>11757</td>\n",
       "      <td>10.0</td>\n",
       "    </tr>\n",
       "    <tr>\n",
       "      <th>101</th>\n",
       "      <td>1</td>\n",
       "      <td>15451</td>\n",
       "      <td>10.0</td>\n",
       "    </tr>\n",
       "    <tr>\n",
       "      <th>153</th>\n",
       "      <td>2</td>\n",
       "      <td>11771</td>\n",
       "      <td>10.0</td>\n",
       "    </tr>\n",
       "  </tbody>\n",
       "</table>\n",
       "</div>"
      ],
      "text/plain": [
       "     user_id  anime_id  rating\n",
       "47         1      8074    10.0\n",
       "81         1     11617    10.0\n",
       "83         1     11757    10.0\n",
       "101        1     15451    10.0\n",
       "153        2     11771    10.0"
      ]
     },
     "execution_count": 20,
     "metadata": {},
     "output_type": "execute_result"
    }
   ],
   "source": [
    "url_rating = r'../input/anime-recommendations-database/rating.csv'\n",
    "\n",
    "rating = pd.read_csv(url_rating, \n",
    "                    sep = ',', \n",
    "                    index_col = None,\n",
    "                    na_values = '-1')\n",
    "rating = rating.dropna()\n",
    "rating.head()"
   ]
  },
  {
   "cell_type": "markdown",
   "metadata": {},
   "source": [
    "The data encompasses two files, one containing anime content information, and the other containing ratings given by users. Let's join these two tables together."
   ]
  },
  {
   "cell_type": "code",
   "execution_count": 21,
   "metadata": {},
   "outputs": [],
   "source": [
    "df = anime.merge(rating, on='anime_id')"
   ]
  },
  {
   "cell_type": "markdown",
   "metadata": {},
   "source": [
    "Now we have all the data in the same dataframe, each line representing one rating."
   ]
  },
  {
   "cell_type": "code",
   "execution_count": 22,
   "metadata": {},
   "outputs": [
    {
     "name": "stdout",
     "output_type": "stream",
     "text": [
      "dataframe size: 6337239\n",
      "Animes: 9926\n",
      "Users: 69600\n"
     ]
    }
   ],
   "source": [
    "print(\"dataframe size:\", len(df))\n",
    "print(\"Animes:\" ,len(df['anime_id'].value_counts()))\n",
    "print(\"Users:\", len(df['user_id'].value_counts()))"
   ]
  },
  {
   "cell_type": "markdown",
   "metadata": {},
   "source": [
    "The amount of data is large. Without trimming the data set, the KNN algorithm's memory usage is unacceptable, resulting in a `MemoryError`.\n",
    "\n",
    "We choose the number of ratings per user as the discrimination parameter, using only ratings from the most active reviewers. By trial an error it is found, that 500 is a discrimination level that makes the dataset sufficiently small to run on a home computer. This results in a painfully long execution time, so we increase the level to 1500.\n",
    "\n",
    "SVD hog memory like KNN, but we use the same trimmed dataset on it, to compare running times."
   ]
  },
  {
   "cell_type": "code",
   "execution_count": 24,
   "metadata": {},
   "outputs": [
    {
     "name": "stdout",
     "output_type": "stream",
     "text": [
      "after filtering users by number of ratings:\n",
      "dataframe size: 67781\n",
      "animes: 8420\n",
      "users: 35\n"
     ]
    }
   ],
   "source": [
    "# Filtering method inspired by\n",
    "# https://towardsdatascience.com/building-and-testing-recommender-systems-with-surprise-step-by-step-d4ba702ef80b\n",
    "min_ratings_per_user = 1500\n",
    "filter_user = df['user_id'].value_counts() >= min_ratings_per_user\n",
    "filter_user = filter_user[filter_user].index.tolist()\n",
    "\n",
    "df = df[(df['user_id'].isin(filter_user))].dropna()\n",
    "\n",
    "print('after filtering users by number of ratings:')\n",
    "print(\"dataframe size:\", len(df))\n",
    "print(\"animes:\", len(df['anime_id'].value_counts()))\n",
    "print(\"users:\", len(df['user_id'].value_counts()))"
   ]
  },
  {
   "cell_type": "markdown",
   "metadata": {},
   "source": [
    "Now there is significant reduction in training set size, while still maintaining a diverse selection of different anime contents to recommend."
   ]
  },
  {
   "cell_type": "code",
   "execution_count": 25,
   "metadata": {},
   "outputs": [
    {
     "data": {
      "text/html": [
       "<div>\n",
       "<style scoped>\n",
       "    .dataframe tbody tr th:only-of-type {\n",
       "        vertical-align: middle;\n",
       "    }\n",
       "\n",
       "    .dataframe tbody tr th {\n",
       "        vertical-align: top;\n",
       "    }\n",
       "\n",
       "    .dataframe thead th {\n",
       "        text-align: right;\n",
       "    }\n",
       "</style>\n",
       "<table border=\"1\" class=\"dataframe\">\n",
       "  <thead>\n",
       "    <tr style=\"text-align: right;\">\n",
       "      <th></th>\n",
       "      <th>anime_id</th>\n",
       "      <th>name</th>\n",
       "      <th>genre</th>\n",
       "      <th>type</th>\n",
       "      <th>episodes</th>\n",
       "      <th>rating_x</th>\n",
       "      <th>members</th>\n",
       "      <th>user_id</th>\n",
       "      <th>rating_y</th>\n",
       "    </tr>\n",
       "  </thead>\n",
       "  <tbody>\n",
       "    <tr>\n",
       "      <th>332</th>\n",
       "      <td>32281</td>\n",
       "      <td>Kimi no Na wa.</td>\n",
       "      <td>[Drama, Romance, School, Supernatural]</td>\n",
       "      <td>Movie</td>\n",
       "      <td>1</td>\n",
       "      <td>9.37</td>\n",
       "      <td>200630</td>\n",
       "      <td>13954</td>\n",
       "      <td>6.0</td>\n",
       "    </tr>\n",
       "    <tr>\n",
       "      <th>449</th>\n",
       "      <td>32281</td>\n",
       "      <td>Kimi no Na wa.</td>\n",
       "      <td>[Drama, Romance, School, Supernatural]</td>\n",
       "      <td>Movie</td>\n",
       "      <td>1</td>\n",
       "      <td>9.37</td>\n",
       "      <td>200630</td>\n",
       "      <td>17033</td>\n",
       "      <td>10.0</td>\n",
       "    </tr>\n",
       "    <tr>\n",
       "      <th>1336</th>\n",
       "      <td>32281</td>\n",
       "      <td>Kimi no Na wa.</td>\n",
       "      <td>[Drama, Romance, School, Supernatural]</td>\n",
       "      <td>Movie</td>\n",
       "      <td>1</td>\n",
       "      <td>9.37</td>\n",
       "      <td>200630</td>\n",
       "      <td>49662</td>\n",
       "      <td>8.0</td>\n",
       "    </tr>\n",
       "    <tr>\n",
       "      <th>1466</th>\n",
       "      <td>32281</td>\n",
       "      <td>Kimi no Na wa.</td>\n",
       "      <td>[Drama, Romance, School, Supernatural]</td>\n",
       "      <td>Movie</td>\n",
       "      <td>1</td>\n",
       "      <td>9.37</td>\n",
       "      <td>200630</td>\n",
       "      <td>57620</td>\n",
       "      <td>10.0</td>\n",
       "    </tr>\n",
       "    <tr>\n",
       "      <th>1689</th>\n",
       "      <td>32281</td>\n",
       "      <td>Kimi no Na wa.</td>\n",
       "      <td>[Drama, Romance, School, Supernatural]</td>\n",
       "      <td>Movie</td>\n",
       "      <td>1</td>\n",
       "      <td>9.37</td>\n",
       "      <td>200630</td>\n",
       "      <td>65840</td>\n",
       "      <td>10.0</td>\n",
       "    </tr>\n",
       "    <tr>\n",
       "      <th>...</th>\n",
       "      <td>...</td>\n",
       "      <td>...</td>\n",
       "      <td>...</td>\n",
       "      <td>...</td>\n",
       "      <td>...</td>\n",
       "      <td>...</td>\n",
       "      <td>...</td>\n",
       "      <td>...</td>\n",
       "      <td>...</td>\n",
       "    </tr>\n",
       "    <tr>\n",
       "      <th>6337226</th>\n",
       "      <td>17833</td>\n",
       "      <td>Pink no Curtain</td>\n",
       "      <td>[Hentai, Slice of Life]</td>\n",
       "      <td>OVA</td>\n",
       "      <td>1</td>\n",
       "      <td>3.61</td>\n",
       "      <td>138</td>\n",
       "      <td>65836</td>\n",
       "      <td>7.0</td>\n",
       "    </tr>\n",
       "    <tr>\n",
       "      <th>6337228</th>\n",
       "      <td>10368</td>\n",
       "      <td>Teleclub no Himitsu</td>\n",
       "      <td>[Hentai]</td>\n",
       "      <td>OVA</td>\n",
       "      <td>2</td>\n",
       "      <td>4.67</td>\n",
       "      <td>148</td>\n",
       "      <td>65836</td>\n",
       "      <td>5.0</td>\n",
       "    </tr>\n",
       "    <tr>\n",
       "      <th>6337229</th>\n",
       "      <td>9352</td>\n",
       "      <td>Tenshi no Habataki Jun</td>\n",
       "      <td>[Hentai]</td>\n",
       "      <td>OVA</td>\n",
       "      <td>1</td>\n",
       "      <td>4.33</td>\n",
       "      <td>201</td>\n",
       "      <td>53698</td>\n",
       "      <td>6.0</td>\n",
       "    </tr>\n",
       "    <tr>\n",
       "      <th>6337235</th>\n",
       "      <td>5543</td>\n",
       "      <td>Under World</td>\n",
       "      <td>[Hentai]</td>\n",
       "      <td>OVA</td>\n",
       "      <td>1</td>\n",
       "      <td>4.28</td>\n",
       "      <td>183</td>\n",
       "      <td>49503</td>\n",
       "      <td>4.0</td>\n",
       "    </tr>\n",
       "    <tr>\n",
       "      <th>6337237</th>\n",
       "      <td>5621</td>\n",
       "      <td>Violence Gekiga David no Hoshi</td>\n",
       "      <td>[Hentai]</td>\n",
       "      <td>OVA</td>\n",
       "      <td>4</td>\n",
       "      <td>4.88</td>\n",
       "      <td>219</td>\n",
       "      <td>49503</td>\n",
       "      <td>6.0</td>\n",
       "    </tr>\n",
       "  </tbody>\n",
       "</table>\n",
       "<p>67781 rows × 9 columns</p>\n",
       "</div>"
      ],
      "text/plain": [
       "         anime_id                            name  \\\n",
       "332         32281                  Kimi no Na wa.   \n",
       "449         32281                  Kimi no Na wa.   \n",
       "1336        32281                  Kimi no Na wa.   \n",
       "1466        32281                  Kimi no Na wa.   \n",
       "1689        32281                  Kimi no Na wa.   \n",
       "...           ...                             ...   \n",
       "6337226     17833                 Pink no Curtain   \n",
       "6337228     10368             Teleclub no Himitsu   \n",
       "6337229      9352          Tenshi no Habataki Jun   \n",
       "6337235      5543                     Under World   \n",
       "6337237      5621  Violence Gekiga David no Hoshi   \n",
       "\n",
       "                                          genre   type episodes  rating_x  \\\n",
       "332      [Drama, Romance, School, Supernatural]  Movie        1      9.37   \n",
       "449      [Drama, Romance, School, Supernatural]  Movie        1      9.37   \n",
       "1336     [Drama, Romance, School, Supernatural]  Movie        1      9.37   \n",
       "1466     [Drama, Romance, School, Supernatural]  Movie        1      9.37   \n",
       "1689     [Drama, Romance, School, Supernatural]  Movie        1      9.37   \n",
       "...                                         ...    ...      ...       ...   \n",
       "6337226                 [Hentai, Slice of Life]    OVA        1      3.61   \n",
       "6337228                                [Hentai]    OVA        2      4.67   \n",
       "6337229                                [Hentai]    OVA        1      4.33   \n",
       "6337235                                [Hentai]    OVA        1      4.28   \n",
       "6337237                                [Hentai]    OVA        4      4.88   \n",
       "\n",
       "         members  user_id  rating_y  \n",
       "332       200630    13954       6.0  \n",
       "449       200630    17033      10.0  \n",
       "1336      200630    49662       8.0  \n",
       "1466      200630    57620      10.0  \n",
       "1689      200630    65840      10.0  \n",
       "...          ...      ...       ...  \n",
       "6337226      138    65836       7.0  \n",
       "6337228      148    65836       5.0  \n",
       "6337229      201    53698       6.0  \n",
       "6337235      183    49503       4.0  \n",
       "6337237      219    49503       6.0  \n",
       "\n",
       "[67781 rows x 9 columns]"
      ]
     },
     "execution_count": 25,
     "metadata": {},
     "output_type": "execute_result"
    }
   ],
   "source": [
    "df"
   ]
  },
  {
   "cell_type": "code",
   "execution_count": 26,
   "metadata": {},
   "outputs": [],
   "source": [
    "# Construct reader\n",
    "reader = Reader(rating_scale=(1, 10))\n",
    "\n",
    "# Generate surprise Dataset\n",
    "data = Dataset.load_from_df(df[['user_id', 'anime_id', 'rating_y']], reader)"
   ]
  },
  {
   "cell_type": "code",
   "execution_count": 27,
   "metadata": {},
   "outputs": [],
   "source": [
    "# Set all data as training set\n",
    "trainset = data.build_full_trainset()"
   ]
  },
  {
   "cell_type": "code",
   "execution_count": 28,
   "metadata": {},
   "outputs": [
    {
     "name": "stdout",
     "output_type": "stream",
     "text": [
      "Computing the msd similarity matrix...\n",
      "Done computing similarity matrix.\n",
      "CPU times: user 10.5 s, sys: 3.22 s, total: 13.8 s\n",
      "Wall time: 13.6 s\n"
     ]
    },
    {
     "data": {
      "text/plain": [
       "<surprise.prediction_algorithms.knns.KNNBasic at 0x7fb28a15a860>"
      ]
     },
     "execution_count": 28,
     "metadata": {},
     "output_type": "execute_result"
    }
   ],
   "source": [
    "%%time\n",
    "# Build and train KNN\n",
    "sim_options = { 'user_based': False } # item based\n",
    "\n",
    "knn = KNNBasic(sim_options=sim_options)\n",
    "knn.fit(trainset)"
   ]
  },
  {
   "cell_type": "code",
   "execution_count": 29,
   "metadata": {},
   "outputs": [
    {
     "name": "stdout",
     "output_type": "stream",
     "text": [
      "CPU times: user 8.37 s, sys: 4.92 ms, total: 8.37 s\n",
      "Wall time: 8.37 s\n"
     ]
    },
    {
     "data": {
      "text/plain": [
       "<surprise.prediction_algorithms.matrix_factorization.SVD at 0x7fb252e02eb8>"
      ]
     },
     "execution_count": 29,
     "metadata": {},
     "output_type": "execute_result"
    }
   ],
   "source": [
    "%%time\n",
    "# Build and train SVD\n",
    "svd = SVD()\n",
    "svd.fit(trainset)"
   ]
  },
  {
   "cell_type": "code",
   "execution_count": 30,
   "metadata": {},
   "outputs": [],
   "source": [
    "testset = trainset.build_anti_testset()\n",
    "# This block copied from Surprise documentation at\n",
    "# http://surprise.readthedocs.io/en/stable/FAQ.html#how-to-get-the-top-n-recommendations-for-each-user\n",
    "\n",
    "def get_top_n(predictions, n=3):\n",
    "\n",
    "    # First map the predictions to each user.\n",
    "    top_n = defaultdict(list)\n",
    "    for uid, iid, true_r, est, _ in predictions:\n",
    "        top_n[uid].append((iid, est))\n",
    "\n",
    "    # Then sort the predictions for each user and retrieve the k highest ones.\n",
    "    for uid, user_ratings in top_n.items():\n",
    "        user_ratings.sort(key=lambda x: x[1], reverse=True)\n",
    "        top_n[uid] = user_ratings[:n]\n",
    "\n",
    "    return top_n"
   ]
  },
  {
   "cell_type": "code",
   "execution_count": 31,
   "metadata": {},
   "outputs": [],
   "source": [
    "# Print the recommended items for each user. The argument max limits number of printed lines. 0 = no limit.\n",
    "def print_top_n(top_n, max=0):\n",
    "    i = max\n",
    "    for uid, user_ratings in top_n.items():\n",
    "        print(uid, [df.query('anime_id == ' + str(iid))['name'].values[0] for (iid, _) in user_ratings])\n",
    "        if max > 0:\n",
    "            i = i - 1\n",
    "            if i is 0: return"
   ]
  },
  {
   "cell_type": "code",
   "execution_count": 32,
   "metadata": {},
   "outputs": [
    {
     "name": "stdout",
     "output_type": "stream",
     "text": [
      "CPU times: user 9min 39s, sys: 331 ms, total: 9min 39s\n",
      "Wall time: 9min 39s\n"
     ]
    }
   ],
   "source": [
    "%%time\n",
    "predictions = knn.test(testset)\n",
    "knn_top_n = get_top_n(predictions, n=3)"
   ]
  },
  {
   "cell_type": "code",
   "execution_count": 33,
   "metadata": {},
   "outputs": [
    {
     "name": "stdout",
     "output_type": "stream",
     "text": [
      "CPU times: user 3.44 s, sys: 69.4 ms, total: 3.51 s\n",
      "Wall time: 3.44 s\n"
     ]
    }
   ],
   "source": [
    "%%time\n",
    "predictions = svd.test(testset)\n",
    "svd_top_n = get_top_n(predictions, n=3)"
   ]
  },
  {
   "cell_type": "markdown",
   "metadata": {},
   "source": [
    "SVD is significantly faster than KNN."
   ]
  },
  {
   "cell_type": "code",
   "execution_count": 34,
   "metadata": {},
   "outputs": [
    {
     "name": "stdout",
     "output_type": "stream",
     "text": [
      "Recommendations by KNN:\n",
      "13954 ['Tokimeki Tonight', 'Sougen no Ko Tenguri', 'Perrine Monogatari']\n",
      "17033 ['Futatsu no Kurumi', 'Pokemon the Movie XY&amp;Z: Volcanion to Karakuri no Magiana', 'Ojamajo Doremi OVA']\n",
      "49662 ['Soukou Kihei Votoms: Red Shoulder Document - Yabou no Roots', 'gdgd Fairies 2 Episode 0', 'Dededen']\n",
      "57620 ['Slow Step', 'Blue Dragon: Tenkai no Shichi Ryuu', 'gdgd Fairies 2 Episode 0']\n",
      "65840 ['Pokemon XY&amp;Z', 'Detective Conan Movie 20: The Darkest Nightmare', 'Go! Princess Precure']\n",
      "67348 ['Happiness Charge PreCure! Movie: Ningyou no Kuni no Ballerina', 'Time Bokan Series: Yattodetaman', 'Suite Precure♪ Movie: Torimodose! Kokoro ga Tsunaku Kiseki no Melody♪']\n",
      "1530 ['Midnight Eye: Gokuu', 'Detective Conan: Black History 2', 'Paul no Miracle Daisakusen']\n",
      "7345 ['Detective Conan Movie 20: The Darkest Nightmare', 'Dr. Slump Movie 08: Arale-chan Hoyoyo!! Tasuketa Same ni Tsurerarete...', 'Hibike! Euphonium Movie: Kitauji Koukou Suisougaku-bu e Youkoso']\n",
      "9032 ['Crusher Joe: The Movie', 'Ushiro no Shoumen Daare', 'Kindaichi Shounen no Jikenbo (TV)']\n",
      "11536 ['Koakuma Kanojo The Animation', 'Tokimeki Tonight', 'Sougen no Ko Tenguri']\n",
      "12431 ['Kikou Souseiki Mospeada', 'Pokemon the Movie XY&amp;Z: Volcanion to Karakuri no Magiana', 'Ojamajo Doremi OVA']\n",
      "22434 ['Kikou Souseiki Mospeada', 'Koakuma Kanojo The Animation', 'gdgd Fairies 2 Episode 0']\n",
      "23247 ['Time Bokan Series: Yattodetaman', 'Hibike! Euphonium Movie: Kitauji Koukou Suisougaku-bu e Youkoso', 'Pokemon the Movie XY&amp;Z: Volcanion to Karakuri no Magiana']\n",
      "23512 ['Ketsuinu', 'Pokemon the Movie XY&amp;Z: Volcanion to Karakuri no Magiana', 'Ojamajo Doremi OVA']\n",
      "23975 ['Pokemon the Movie XY&amp;Z: Volcanion to Karakuri no Magiana', 'Ojamajo Doremi OVA', 'Precure All Stars Movie: Minna de Utau♪ - Kiseki no Mahou']\n",
      "27219 ['Ketsuinu', 'Time Bokan Series: Yattodetaman', 'Pokemon the Movie XY&amp;Z: Volcanion to Karakuri no Magiana']\n",
      "28196 ['Pokemon the Movie XY&amp;Z: Volcanion to Karakuri no Magiana', 'Ojamajo Doremi OVA', 'Precure All Stars Movie: Minna de Utau♪ - Kiseki no Mahou']\n",
      "28521 ['Harukanaru Toki no Naka de 3: Owarinaki Unmei', 'Koakuma Kanojo The Animation', 'Pokemon the Movie XY&amp;Z: Volcanion to Karakuri no Magiana']\n",
      "30597 ['Hurricane Live! 2032', 'Hurricane Live! 2033', 'Kikou Souseiki Mospeada']\n",
      "39921 ['Inyouchuu Shoku Special', 'Inyouchuu Etsu', 'Pokemon the Movie XY&amp;Z: Volcanion to Karakuri no Magiana']\n"
     ]
    }
   ],
   "source": [
    "print(\"Recommendations by KNN:\")\n",
    "print_top_n(knn_top_n, 20)"
   ]
  },
  {
   "cell_type": "code",
   "execution_count": 35,
   "metadata": {},
   "outputs": [
    {
     "name": "stdout",
     "output_type": "stream",
     "text": [
      "Recommendations by SVD:\n",
      "13954 ['Planetes', 'Great Teacher Onizuka', 'Kara no Kyoukai 7: Satsujin Kousatsu (Kou)']\n",
      "17033 ['Ginga Eiyuu Densetsu', 'Evangelion: 2.0 You Can (Not) Advance', 'Evangelion: 1.0 You Are (Not) Alone']\n",
      "49662 ['Death Note', 'Chihayafuru 2', 'Skip Beat!']\n",
      "57620 ['Tsumiki no Ie', 'Nodame Cantabile Finale', 'Daicon Opening Animations']\n",
      "65840 ['Monster', 'Hotaru no Haka', 'Baccano!']\n",
      "67348 ['Gintama&#039;', 'Fullmetal Alchemist: Brotherhood', 'Monster']\n",
      "1530 ['Code Geass: Hangyaku no Lelouch R2', 'Kingdom 2nd Season', 'Gin no Saji 2nd Season']\n",
      "7345 ['Kuroko no Basket 3rd Season', 'Kimi no Na wa.', 'Noragami Aragoto']\n",
      "9032 ['Gintama&#039;', 'Ginga Eiyuu Densetsu', 'Gintama Movie: Kanketsu-hen - Yorozuya yo Eien Nare']\n",
      "11536 ['Monster', 'Gintama', 'Kara no Kyoukai 5: Mujun Rasen']\n",
      "12431 ['Monster', 'Kara no Kyoukai 7: Satsujin Kousatsu (Kou)', 'Gintama&#039;']\n",
      "22434 ['Monster', 'Gintama Movie: Kanketsu-hen - Yorozuya yo Eien Nare', 'Toki wo Kakeru Shoujo']\n",
      "23247 ['Monster', 'Kara no Kyoukai 5: Mujun Rasen', 'Kara no Kyoukai 7: Satsujin Kousatsu (Kou)']\n",
      "23512 ['Gintama&#039;', 'Gintama', 'Ginga Eiyuu Densetsu']\n",
      "23975 ['Nodame Cantabile', 'Gintama Movie: Kanketsu-hen - Yorozuya yo Eien Nare', 'Hunter x Hunter (2011)']\n",
      "27219 ['Ginga Eiyuu Densetsu', 'Clannad: After Story', 'Kara no Kyoukai 7: Satsujin Kousatsu (Kou)']\n",
      "28196 ['Toki wo Kakeru Shoujo', 'Ginga Eiyuu Densetsu', 'Nana']\n",
      "28521 ['Code Geass: Hangyaku no Lelouch R2', 'Colorful', 'Hajime no Ippo: New Challenger']\n",
      "30597 ['Kara no Kyoukai 7: Satsujin Kousatsu (Kou)', 'Gintama Movie: Kanketsu-hen - Yorozuya yo Eien Nare', 'Gintama°']\n",
      "39921 ['Mahou Shoujo Madoka★Magica Movie 3: Hangyaku no Monogatari', 'Mononoke Hime', 'Non Non Biyori Repeat']\n"
     ]
    }
   ],
   "source": [
    "print(\"Recommendations by SVD:\")\n",
    "print_top_n(svd_top_n, 20)"
   ]
  },
  {
   "cell_type": "code",
   "execution_count": null,
   "metadata": {},
   "outputs": [],
   "source": []
  }
 ],
 "metadata": {
  "kernelspec": {
   "display_name": "Python 3",
   "language": "python",
   "name": "python3"
  },
  "language_info": {
   "codemirror_mode": {
    "name": "ipython",
    "version": 3
   },
   "file_extension": ".py",
   "mimetype": "text/x-python",
   "name": "python",
   "nbconvert_exporter": "python",
   "pygments_lexer": "ipython3",
   "version": "3.7.4"
  }
 },
 "nbformat": 4,
 "nbformat_minor": 4
}