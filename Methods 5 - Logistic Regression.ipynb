{
 "cells": [
  {
   "cell_type": "markdown",
   "metadata": {},
   "source": [
    "Methods 5 - Logistic Regression\n",
    "-------------------------------\n",
    "5.3.2020  \n",
    "Mathematics and Methods in Machine Learning and Neural Networks    \n",
    "Helsinki Metropolia University of Applied Sciences"
   ]
  },
  {
   "cell_type": "markdown",
   "metadata": {},
   "source": [
    "The aim of this exercise is to predict spinal conditions (_disk hernia_, _spondylolisthesis_) or absence thereof, based on radiographic measurements.\n",
    "\n",
    "The prediction method used is _multinomial logistic regression_.\n",
    "\n",
    "Data source: http://archive.ics.uci.edu/ml/datasets/Vertebral+Column\n",
    "\n",
    "Additional reference: http://www.oref.org/docs/default-source/default-document-library/sdsg-radiographic-measuremnt-manual.pdf"
   ]
  },
  {
   "cell_type": "code",
   "execution_count": 63,
   "metadata": {},
   "outputs": [],
   "source": [
    "import pandas as pd\n",
    "import numpy as np\n",
    "from sklearn.linear_model import LogisticRegression\n",
    "from sklearn.preprocessing import StandardScaler\n",
    "from sklearn.metrics import confusion_matrix\n",
    "from sklearn.metrics import classification_report\n",
    "from sklearn.model_selection import cross_val_score"
   ]
  },
  {
   "cell_type": "markdown",
   "metadata": {},
   "source": [
    "We do multiclass prediction, so using the 3-class data set."
   ]
  },
  {
   "cell_type": "code",
   "execution_count": 64,
   "metadata": {},
   "outputs": [
    {
     "data": {
      "text/html": [
       "<div>\n",
       "<style scoped>\n",
       "    .dataframe tbody tr th:only-of-type {\n",
       "        vertical-align: middle;\n",
       "    }\n",
       "\n",
       "    .dataframe tbody tr th {\n",
       "        vertical-align: top;\n",
       "    }\n",
       "\n",
       "    .dataframe thead th {\n",
       "        text-align: right;\n",
       "    }\n",
       "</style>\n",
       "<table border=\"1\" class=\"dataframe\">\n",
       "  <thead>\n",
       "    <tr style=\"text-align: right;\">\n",
       "      <th></th>\n",
       "      <th>pelvic incidence</th>\n",
       "      <th>pelvic tilt</th>\n",
       "      <th>lumbar lordosis angle</th>\n",
       "      <th>sacral slope</th>\n",
       "      <th>pelvic radius</th>\n",
       "      <th>grade of spondylolisthesis</th>\n",
       "      <th>condition</th>\n",
       "    </tr>\n",
       "  </thead>\n",
       "  <tbody>\n",
       "    <tr>\n",
       "      <td>0</td>\n",
       "      <td>63.03</td>\n",
       "      <td>22.55</td>\n",
       "      <td>39.61</td>\n",
       "      <td>40.48</td>\n",
       "      <td>98.67</td>\n",
       "      <td>-0.25</td>\n",
       "      <td>DH</td>\n",
       "    </tr>\n",
       "    <tr>\n",
       "      <td>1</td>\n",
       "      <td>39.06</td>\n",
       "      <td>10.06</td>\n",
       "      <td>25.02</td>\n",
       "      <td>29.00</td>\n",
       "      <td>114.41</td>\n",
       "      <td>4.56</td>\n",
       "      <td>DH</td>\n",
       "    </tr>\n",
       "    <tr>\n",
       "      <td>2</td>\n",
       "      <td>68.83</td>\n",
       "      <td>22.22</td>\n",
       "      <td>50.09</td>\n",
       "      <td>46.61</td>\n",
       "      <td>105.99</td>\n",
       "      <td>-3.53</td>\n",
       "      <td>DH</td>\n",
       "    </tr>\n",
       "    <tr>\n",
       "      <td>3</td>\n",
       "      <td>69.30</td>\n",
       "      <td>24.65</td>\n",
       "      <td>44.31</td>\n",
       "      <td>44.64</td>\n",
       "      <td>101.87</td>\n",
       "      <td>11.21</td>\n",
       "      <td>DH</td>\n",
       "    </tr>\n",
       "    <tr>\n",
       "      <td>4</td>\n",
       "      <td>49.71</td>\n",
       "      <td>9.65</td>\n",
       "      <td>28.32</td>\n",
       "      <td>40.06</td>\n",
       "      <td>108.17</td>\n",
       "      <td>7.92</td>\n",
       "      <td>DH</td>\n",
       "    </tr>\n",
       "  </tbody>\n",
       "</table>\n",
       "</div>"
      ],
      "text/plain": [
       "   pelvic incidence  pelvic tilt  lumbar lordosis angle  sacral slope  \\\n",
       "0             63.03        22.55                  39.61         40.48   \n",
       "1             39.06        10.06                  25.02         29.00   \n",
       "2             68.83        22.22                  50.09         46.61   \n",
       "3             69.30        24.65                  44.31         44.64   \n",
       "4             49.71         9.65                  28.32         40.06   \n",
       "\n",
       "   pelvic radius  grade of spondylolisthesis condition  \n",
       "0          98.67                       -0.25        DH  \n",
       "1         114.41                        4.56        DH  \n",
       "2         105.99                       -3.53        DH  \n",
       "3         101.87                       11.21        DH  \n",
       "4         108.17                        7.92        DH  "
      ]
     },
     "execution_count": 64,
     "metadata": {},
     "output_type": "execute_result"
    }
   ],
   "source": [
    "url = r'http://users.metropolia.fi/~simomake/coursework/ml/column_3C.dat'\n",
    "names = ['pelvic incidence', 'pelvic tilt', 'lumbar lordosis angle', 'sacral slope', 'pelvic radius', 'grade of spondylolisthesis', 'condition']\n",
    "df = pd.read_csv(url, \n",
    "                 sep = ' ', \n",
    "                 index_col = None,\n",
    "                 names = names)\n",
    "df.head()"
   ]
  },
  {
   "cell_type": "code",
   "execution_count": 65,
   "metadata": {},
   "outputs": [],
   "source": [
    "# re-encode condition column\n",
    "target_names = ['NO', 'SL', 'DH']\n",
    "df['condition'].replace(target_names, [0,1,2], inplace=True)"
   ]
  },
  {
   "cell_type": "code",
   "execution_count": 66,
   "metadata": {},
   "outputs": [],
   "source": [
    "# split into explanatory and response variables \n",
    "X = df.drop(['condition'], axis=1)\n",
    "Y = df['condition']"
   ]
  },
  {
   "cell_type": "code",
   "execution_count": 67,
   "metadata": {},
   "outputs": [
    {
     "name": "stdout",
     "output_type": "stream",
     "text": [
      "Coefficients:  [[ 0.03205038 -0.10757546  0.01869301  0.06459006  0.10677264 -0.16808262]\n",
      " [ 0.05461569  0.0083767  -0.01056203  0.04465278 -0.01597843  0.29990437]\n",
      " [-0.02629018  0.12673318 -0.04116507 -0.12509988 -0.10980262 -0.0998079 ]]\n",
      "Intercept:  [-15.15571758  -7.80412803  18.00060525]\n",
      "Confusion matrix:\n",
      " [[ 85   2  13]\n",
      " [  3 146   1]\n",
      " [ 19   1  40]]\n",
      "Accuracy calculated from the training set = 0.874\n",
      "              precision    recall  f1-score   support\n",
      "\n",
      "          NO       0.79      0.85      0.82       100\n",
      "          SL       0.98      0.97      0.98       150\n",
      "          DH       0.74      0.67      0.70        60\n",
      "\n",
      "    accuracy                           0.87       310\n",
      "   macro avg       0.84      0.83      0.83       310\n",
      "weighted avg       0.87      0.87      0.87       310\n",
      "\n"
     ]
    }
   ],
   "source": [
    "# build and fit model\n",
    "reg = LogisticRegression(solver='lbfgs', multi_class='ovr')\n",
    "reg.fit(X,Y)\n",
    "\n",
    "print(\"Coefficients: \",reg.coef_)\n",
    "print(\"Intercept: \", reg.intercept_)\n",
    "\n",
    "# compute predicted values from training set\n",
    "Y_pred = reg.predict(X)\n",
    "\n",
    "cm = confusion_matrix(Y, Y_pred)\n",
    "print(\"Confusion matrix:\\n\",cm)\n",
    "\n",
    "accuracy = (cm[0][0]+cm[1][1]+cm[2][2])/(cm.sum())\n",
    "print(\"Accuracy calculated from the training set = %.3f\" % (accuracy))\n",
    "\n",
    "print(classification_report(Y, Y_pred, target_names=target_names))"
   ]
  },
  {
   "cell_type": "markdown",
   "metadata": {},
   "source": [
    "The model is __good at detecting spondylolisthesis__ at 97 % sensitivity and 98 % precision. This is because `grade of spondylolisthesis` is given as an input feature.\n",
    "\n",
    "The model detects an existing __disk hernia__ at a 67 % probability (sensitivity). A patient classified by the model as having a disk hernia actually has disk hernia at a 74 % probability (precision).\n",
    "\n",
    "For a __normal spine__, the sensitivity and precision are 85 % and 79 %, accordingly.\n",
    "\n",
    "The above statistics were calculated against training data. To get more reliable results, they should be recalculated using previously unseen data (or cross-validation)."
   ]
  },
  {
   "cell_type": "code",
   "execution_count": 68,
   "metadata": {},
   "outputs": [
    {
     "name": "stdout",
     "output_type": "stream",
     "text": [
      "Accuracies from 10 individual folds:\n",
      "[0.74193548 0.80645161 0.90322581 0.67741935 0.93548387 0.93548387\n",
      " 0.90322581 0.87096774 0.93548387 0.87096774]\n",
      "Accuracy calculated using 10-fold cross validation = 0.858\n"
     ]
    }
   ],
   "source": [
    "# cross-validate\n",
    "k = 10  # number of folds\n",
    "scores = cross_val_score(estimator=reg,\n",
    "                        X=X,\n",
    "                        y=Y,\n",
    "                        scoring=\"accuracy\",\n",
    "                        cv=k)\n",
    "print(\"Accuracies from %d individual folds:\" % k)\n",
    "print(scores)\n",
    "print(\"Accuracy calculated using %d-fold cross validation = %.3f\" % (k, scores.mean()))"
   ]
  },
  {
   "cell_type": "markdown",
   "metadata": {},
   "source": [
    "The __overall accuracy__ of the model is __85.8 %__. Cross validation accuracy is only about 1 % weaker than training set accuracy, so we shouldn't be overly concerned with overfitting."
   ]
  },
  {
   "cell_type": "code",
   "execution_count": 82,
   "metadata": {},
   "outputs": [
    {
     "name": "stdout",
     "output_type": "stream",
     "text": [
      "Probability of vertebral abnormality: 0.337\n",
      "\n",
      "Class probabilities:\n"
     ]
    },
    {
     "data": {
      "text/html": [
       "<div>\n",
       "<style scoped>\n",
       "    .dataframe tbody tr th:only-of-type {\n",
       "        vertical-align: middle;\n",
       "    }\n",
       "\n",
       "    .dataframe tbody tr th {\n",
       "        vertical-align: top;\n",
       "    }\n",
       "\n",
       "    .dataframe thead th {\n",
       "        text-align: right;\n",
       "    }\n",
       "</style>\n",
       "<table border=\"1\" class=\"dataframe\">\n",
       "  <thead>\n",
       "    <tr style=\"text-align: right;\">\n",
       "      <th></th>\n",
       "      <th>NO</th>\n",
       "      <th>SL</th>\n",
       "      <th>DH</th>\n",
       "    </tr>\n",
       "  </thead>\n",
       "  <tbody>\n",
       "    <tr>\n",
       "      <td>0</td>\n",
       "      <td>0.663</td>\n",
       "      <td>0.003</td>\n",
       "      <td>0.334</td>\n",
       "    </tr>\n",
       "  </tbody>\n",
       "</table>\n",
       "</div>"
      ],
      "text/plain": [
       "      NO     SL     DH\n",
       "0  0.663  0.003  0.334"
      ]
     },
     "execution_count": 82,
     "metadata": {},
     "output_type": "execute_result"
    }
   ],
   "source": [
    "# get estimated probabilities for a single sample\n",
    "\n",
    "input_sample = [39.36, 7.01, 37, 32.35, 117.82, 1.9] # NO\n",
    "\n",
    "prob = reg.predict_proba(np.array(input_sample).reshape((1,-1))).round(3)\n",
    "res = pd.DataFrame(prob, columns=target_names)\n",
    "\n",
    "print(\"Probability of vertebral abnormality:\", (1-res['NO'][0]).round(3))\n",
    "print(\"\\nClass probabilities:\")\n",
    "res"
   ]
  },
  {
   "cell_type": "code",
   "execution_count": null,
   "metadata": {},
   "outputs": [],
   "source": []
  }
 ],
 "metadata": {
  "kernelspec": {
   "display_name": "Python 3",
   "language": "python",
   "name": "python3"
  },
  "language_info": {
   "codemirror_mode": {
    "name": "ipython",
    "version": 3
   },
   "file_extension": ".py",
   "mimetype": "text/x-python",
   "name": "python",
   "nbconvert_exporter": "python",
   "pygments_lexer": "ipython3",
   "version": "3.7.4"
  }
 },
 "nbformat": 4,
 "nbformat_minor": 4
}